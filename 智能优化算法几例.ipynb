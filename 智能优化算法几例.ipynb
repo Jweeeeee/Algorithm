{
 "cells": [
  {
   "cell_type": "code",
   "execution_count": 1,
   "metadata": {},
   "outputs": [],
   "source": [
    "# 使用Tab自动补全代码\n",
    "%config IPCompleter.greedy=True"
   ]
  },
  {
   "cell_type": "markdown",
   "metadata": {},
   "source": [
    "# 贪婪算法"
   ]
  },
  {
   "cell_type": "markdown",
   "metadata": {},
   "source": [
    "1.**硬币找零**：假设只有 1 分、 2 分、5分、 1 角、2角、 5角、 1元的硬币。在超市结账时，如果需要找零钱，收银员希望将最少的硬币数找给顾客。那么，给定 需要找的零钱数目，如何求得最少的硬币数呢？（这里我们假定各种硬币的数量是充足的）"
   ]
  },
  {
   "cell_type": "code",
   "execution_count": 2,
   "metadata": {},
   "outputs": [],
   "source": [
    "class coin(object):\n",
    "    # 硬币类有两个值：面值和面值相应的数量\n",
    "    def __init__(self,v,n):\n",
    "        # 每种零钱的面值，数量\n",
    "        self.par_value = float(v)\n",
    "        self.number = n\n",
    "    def getValue(self):\n",
    "        # 获取面值的值\n",
    "        return self.par_value\n",
    "    def getNumber(self):\n",
    "        # 获取数量的值\n",
    "        return self.number\n",
    "    def __str__(self):\n",
    "        result = '<' + str(self.par_value) + ',' + str(self.number) + '>'\n",
    "        return result\n",
    "\n",
    "def coin_case(nums=[999 for i in range(7)]):\n",
    "    # 盒子里面的硬币\n",
    "    par_values = [1.0,0.5,0.2,0.1,0.05,0.02,0.01] \n",
    "    numbers = list(nums)\n",
    "    case = [coin(par_values[i],numbers[i]) for i in range(len(numbers))]\n",
    "    return case\n",
    "\n",
    "def greedy(price,case):\n",
    "    nums = list(range(len(case)))\n",
    "    sur = price\n",
    "    for i in range(len(case)):\n",
    "        number = case[i].getNumber()\n",
    "        value = case[i].getValue()\n",
    "        if int(sur/value) <= number:\n",
    "            nums[i] = int(sur/value)\n",
    "            sur = sur - value*int(sur/value)\n",
    "    coin_sum = sum(nums)\n",
    "    return nums,coin_sum\n",
    "\n",
    "def coin_change(price,case):\n",
    "    # 贪心算法下的找零方案\n",
    "    nums = greedy(price,case)\n",
    "    par_values = [1,0.5,0.2,0.1,0.05,0.02,0.01] \n",
    "    change = [coin(par_values[i],nums[0][i]) for i in range(len(par_values))]\n",
    "    return change,nums[1]\n",
    "\n",
    "def result_show(price,case):\n",
    "    # 呈现结果\n",
    "    change,coin_sum = coins = coin_change(price,case)\n",
    "    print('该方案所需硬币数(单位:元)：',coin_sum)\n",
    "    for item in change:\n",
    "        print('',item)\n",
    "    \n",
    "if __name__ == '__main__' :\n",
    "    # 在该模块未被调用时执行\n",
    "    case = coin_case()"
   ]
  },
  {
   "cell_type": "code",
   "execution_count": 3,
   "metadata": {},
   "outputs": [
    {
     "name": "stdout",
     "output_type": "stream",
     "text": [
      "该方案所需硬币数(单位:元)： 18\n",
      " <1.0,15>\n",
      " <0.5,0>\n",
      " <0.2,1>\n",
      " <0.1,0>\n",
      " <0.05,0>\n",
      " <0.02,1>\n",
      " <0.01,1>\n"
     ]
    }
   ],
   "source": [
    "result_show(15.23,case)"
   ]
  },
  {
   "cell_type": "markdown",
   "metadata": {},
   "source": [
    "# 模拟退火"
   ]
  },
  {
   "cell_type": "code",
   "execution_count": null,
   "metadata": {},
   "outputs": [],
   "source": []
  }
 ],
 "metadata": {
  "kernelspec": {
   "display_name": "Python 3",
   "language": "python",
   "name": "python3"
  },
  "language_info": {
   "codemirror_mode": {
    "name": "ipython",
    "version": 3
   },
   "file_extension": ".py",
   "mimetype": "text/x-python",
   "name": "python",
   "nbconvert_exporter": "python",
   "pygments_lexer": "ipython3",
   "version": "3.6.4"
  }
 },
 "nbformat": 4,
 "nbformat_minor": 2
}
